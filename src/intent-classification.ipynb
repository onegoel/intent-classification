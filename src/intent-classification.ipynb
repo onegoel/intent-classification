{
 "cells": [
  {
   "attachments": {},
   "cell_type": "markdown",
   "metadata": {},
   "source": [
    "Convert en-US of MASSIVE from jsonl to csv"
   ]
  },
  {
   "cell_type": "code",
   "execution_count": 6,
   "metadata": {},
   "outputs": [],
   "source": [
    "import csv\n",
    "import json\n",
    "\n",
    "massive_fields = ['id', 'locale', 'partition', 'scenario', 'intent', 'utt', 'annot_utt', 'worker_id']\n",
    "\n",
    "with open('../massive@1.0/data/en-US.jsonl', 'r') as infile, open('../data/massive-us-en.csv', 'w', newline='') as outfile:\n",
    "    writer = csv.writer(outfile)\n",
    "    writer.writerow(massive_fields) # Write the header row to CSV\n",
    "\n",
    "    for line in infile:\n",
    "        obj = json.loads(line)\n",
    "        writer.writerow([\n",
    "            obj['id'], \n",
    "            obj['locale'], \n",
    "            obj['partition'], \n",
    "            obj['scenario'], \n",
    "            obj['intent'], \n",
    "            obj['utt'], \n",
    "            obj['annot_utt'], \n",
    "            obj['worker_id']\n",
    "        ])\n"
   ]
  },
  {
   "attachments": {},
   "cell_type": "markdown",
   "metadata": {},
   "source": [
    "Install the required packages"
   ]
  },
  {
   "cell_type": "code",
   "execution_count": null,
   "metadata": {},
   "outputs": [],
   "source": [
    "@pip install transformers torch numpy pandas datasets"
   ]
  }
 ],
 "metadata": {
  "kernelspec": {
   "display_name": "project",
   "language": "python",
   "name": "python3"
  },
  "language_info": {
   "codemirror_mode": {
    "name": "ipython",
    "version": 3
   },
   "file_extension": ".py",
   "mimetype": "text/x-python",
   "name": "python",
   "nbconvert_exporter": "python",
   "pygments_lexer": "ipython3",
   "version": "3.11.3"
  },
  "orig_nbformat": 4
 },
 "nbformat": 4,
 "nbformat_minor": 2
}
