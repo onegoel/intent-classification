{
 "cells": [
  {
   "attachments": {},
   "cell_type": "markdown",
   "metadata": {},
   "source": [
    "Convert en-US of MASSIVE from jsonl to csv"
   ]
  },
  {
   "cell_type": "code",
   "execution_count": 6,
   "metadata": {},
   "outputs": [],
   "source": [
    "import csv\n",
    "import json\n",
    "\n",
    "massive_fields = ['id', 'locale', 'partition', 'scenario', 'intent', 'utt', 'annot_utt', 'worker_id']\n",
    "\n",
    "with open('../massive@1.0/data/en-US.jsonl', 'r') as infile, open('../data/massive-us-en.csv', 'w', newline='') as outfile:\n",
    "    writer = csv.writer(outfile)\n",
    "    writer.writerow(massive_fields) # Write the header row to CSV\n",
    "\n",
    "    for line in infile:\n",
    "        obj = json.loads(line)\n",
    "        writer.writerow([\n",
    "            obj['id'], \n",
    "            obj['locale'], \n",
    "            obj['partition'],\n",
    "            obj['scenario'], \n",
    "            obj['intent'], \n",
    "            obj['utt'], \n",
    "            obj['annot_utt'], \n",
    "            obj['worker_id']\n",
    "        ])"
   ]
  },
  {
   "attachments": {},
   "cell_type": "markdown",
   "metadata": {},
   "source": [
    "Install the required packages"
   ]
  },
  {
   "cell_type": "code",
   "execution_count": 7,
   "metadata": {},
   "outputs": [
    {
     "name": "stdout",
     "output_type": "stream",
     "text": [
      "Requirement already satisfied: transformers in /Users/Aryan_Goel/intent-classification/project/lib/python3.11/site-packages (4.28.1)\n",
      "Collecting torch\n",
      "  Using cached torch-2.0.0-cp311-none-macosx_10_9_x86_64.whl (139.5 MB)\n",
      "Requirement already satisfied: numpy in /Users/Aryan_Goel/intent-classification/project/lib/python3.11/site-packages (1.24.3)\n",
      "Requirement already satisfied: pandas in /Users/Aryan_Goel/intent-classification/project/lib/python3.11/site-packages (2.0.1)\n",
      "Requirement already satisfied: datasets in /Users/Aryan_Goel/intent-classification/project/lib/python3.11/site-packages (2.12.0)\n",
      "Requirement already satisfied: filelock in /Users/Aryan_Goel/intent-classification/project/lib/python3.11/site-packages (from transformers) (3.12.0)\n",
      "Requirement already satisfied: huggingface-hub<1.0,>=0.11.0 in /Users/Aryan_Goel/intent-classification/project/lib/python3.11/site-packages (from transformers) (0.14.1)\n",
      "Requirement already satisfied: packaging>=20.0 in /Users/Aryan_Goel/intent-classification/project/lib/python3.11/site-packages (from transformers) (23.1)\n",
      "Requirement already satisfied: pyyaml>=5.1 in /Users/Aryan_Goel/intent-classification/project/lib/python3.11/site-packages (from transformers) (6.0)\n",
      "Requirement already satisfied: regex!=2019.12.17 in /Users/Aryan_Goel/intent-classification/project/lib/python3.11/site-packages (from transformers) (2023.3.23)\n",
      "Requirement already satisfied: requests in /Users/Aryan_Goel/intent-classification/project/lib/python3.11/site-packages (from transformers) (2.29.0)\n",
      "Requirement already satisfied: tokenizers!=0.11.3,<0.14,>=0.11.1 in /Users/Aryan_Goel/intent-classification/project/lib/python3.11/site-packages (from transformers) (0.13.3)\n",
      "Requirement already satisfied: tqdm>=4.27 in /Users/Aryan_Goel/intent-classification/project/lib/python3.11/site-packages (from transformers) (4.65.0)\n",
      "Requirement already satisfied: typing-extensions in /Users/Aryan_Goel/intent-classification/project/lib/python3.11/site-packages (from torch) (4.5.0)\n",
      "Collecting sympy\n",
      "  Using cached sympy-1.11.1-py3-none-any.whl (6.5 MB)\n",
      "Collecting networkx\n",
      "  Using cached networkx-3.1-py3-none-any.whl (2.1 MB)\n",
      "Collecting jinja2\n",
      "  Using cached Jinja2-3.1.2-py3-none-any.whl (133 kB)\n",
      "Requirement already satisfied: python-dateutil>=2.8.2 in /Users/Aryan_Goel/intent-classification/project/lib/python3.11/site-packages (from pandas) (2.8.2)\n",
      "Requirement already satisfied: pytz>=2020.1 in /Users/Aryan_Goel/intent-classification/project/lib/python3.11/site-packages (from pandas) (2023.3)\n",
      "Requirement already satisfied: tzdata>=2022.1 in /Users/Aryan_Goel/intent-classification/project/lib/python3.11/site-packages (from pandas) (2023.3)\n",
      "Requirement already satisfied: pyarrow>=8.0.0 in /Users/Aryan_Goel/intent-classification/project/lib/python3.11/site-packages (from datasets) (11.0.0)\n",
      "Requirement already satisfied: dill<0.3.7,>=0.3.0 in /Users/Aryan_Goel/intent-classification/project/lib/python3.11/site-packages (from datasets) (0.3.6)\n",
      "Requirement already satisfied: xxhash in /Users/Aryan_Goel/intent-classification/project/lib/python3.11/site-packages (from datasets) (3.2.0)\n",
      "Requirement already satisfied: multiprocess in /Users/Aryan_Goel/intent-classification/project/lib/python3.11/site-packages (from datasets) (0.70.14)\n",
      "Requirement already satisfied: fsspec[http]>=2021.11.1 in /Users/Aryan_Goel/intent-classification/project/lib/python3.11/site-packages (from datasets) (2023.4.0)\n",
      "Requirement already satisfied: aiohttp in /Users/Aryan_Goel/intent-classification/project/lib/python3.11/site-packages (from datasets) (3.8.4)\n",
      "Requirement already satisfied: responses<0.19 in /Users/Aryan_Goel/intent-classification/project/lib/python3.11/site-packages (from datasets) (0.18.0)\n",
      "Requirement already satisfied: attrs>=17.3.0 in /Users/Aryan_Goel/intent-classification/project/lib/python3.11/site-packages (from aiohttp->datasets) (23.1.0)\n",
      "Requirement already satisfied: charset-normalizer<4.0,>=2.0 in /Users/Aryan_Goel/intent-classification/project/lib/python3.11/site-packages (from aiohttp->datasets) (3.1.0)\n",
      "Requirement already satisfied: multidict<7.0,>=4.5 in /Users/Aryan_Goel/intent-classification/project/lib/python3.11/site-packages (from aiohttp->datasets) (6.0.4)\n",
      "Requirement already satisfied: async-timeout<5.0,>=4.0.0a3 in /Users/Aryan_Goel/intent-classification/project/lib/python3.11/site-packages (from aiohttp->datasets) (4.0.2)\n",
      "Requirement already satisfied: yarl<2.0,>=1.0 in /Users/Aryan_Goel/intent-classification/project/lib/python3.11/site-packages (from aiohttp->datasets) (1.9.2)\n",
      "Requirement already satisfied: frozenlist>=1.1.1 in /Users/Aryan_Goel/intent-classification/project/lib/python3.11/site-packages (from aiohttp->datasets) (1.3.3)\n",
      "Requirement already satisfied: aiosignal>=1.1.2 in /Users/Aryan_Goel/intent-classification/project/lib/python3.11/site-packages (from aiohttp->datasets) (1.3.1)\n",
      "Requirement already satisfied: six>=1.5 in /Users/Aryan_Goel/intent-classification/project/lib/python3.11/site-packages (from python-dateutil>=2.8.2->pandas) (1.16.0)\n",
      "Requirement already satisfied: idna<4,>=2.5 in /Users/Aryan_Goel/intent-classification/project/lib/python3.11/site-packages (from requests->transformers) (3.4)\n",
      "Requirement already satisfied: urllib3<1.27,>=1.21.1 in /Users/Aryan_Goel/intent-classification/project/lib/python3.11/site-packages (from requests->transformers) (1.26.15)\n",
      "Requirement already satisfied: certifi>=2017.4.17 in /Users/Aryan_Goel/intent-classification/project/lib/python3.11/site-packages (from requests->transformers) (2022.12.7)\n",
      "Collecting MarkupSafe>=2.0\n",
      "  Using cached MarkupSafe-2.1.2-cp311-cp311-macosx_10_9_x86_64.whl (13 kB)\n",
      "Collecting mpmath>=0.19\n",
      "  Using cached mpmath-1.3.0-py3-none-any.whl (536 kB)\n",
      "Installing collected packages: mpmath, sympy, networkx, MarkupSafe, jinja2, torch\n",
      "Successfully installed MarkupSafe-2.1.2 jinja2-3.1.2 mpmath-1.3.0 networkx-3.1 sympy-1.11.1 torch-2.0.0\n",
      "\n",
      "\u001b[1m[\u001b[0m\u001b[34;49mnotice\u001b[0m\u001b[1;39;49m]\u001b[0m\u001b[39;49m A new release of pip is available: \u001b[0m\u001b[31;49m23.0.1\u001b[0m\u001b[39;49m -> \u001b[0m\u001b[32;49m23.1.2\u001b[0m\n",
      "\u001b[1m[\u001b[0m\u001b[34;49mnotice\u001b[0m\u001b[1;39;49m]\u001b[0m\u001b[39;49m To update, run: \u001b[0m\u001b[32;49mpip install --upgrade pip\u001b[0m\n",
      "Note: you may need to restart the kernel to use updated packages.\n"
     ]
    }
   ],
   "source": [
    "%pip install -r dependencies.txt"
   ]
  },
  {
   "cell_type": "code",
   "execution_count": 40,
   "metadata": {},
   "outputs": [
    {
     "data": {
      "text/html": [
       "<div>\n",
       "<style scoped>\n",
       "    .dataframe tbody tr th:only-of-type {\n",
       "        vertical-align: middle;\n",
       "    }\n",
       "\n",
       "    .dataframe tbody tr th {\n",
       "        vertical-align: top;\n",
       "    }\n",
       "\n",
       "    .dataframe thead th {\n",
       "        text-align: right;\n",
       "    }\n",
       "</style>\n",
       "<table border=\"1\" class=\"dataframe\">\n",
       "  <thead>\n",
       "    <tr style=\"text-align: right;\">\n",
       "      <th></th>\n",
       "      <th>id</th>\n",
       "      <th>locale</th>\n",
       "      <th>partition</th>\n",
       "      <th>scenario</th>\n",
       "      <th>intent</th>\n",
       "      <th>utt</th>\n",
       "      <th>annot_utt</th>\n",
       "      <th>worker_id</th>\n",
       "    </tr>\n",
       "  </thead>\n",
       "  <tbody>\n",
       "    <tr>\n",
       "      <th>1</th>\n",
       "      <td>1</td>\n",
       "      <td>en-US</td>\n",
       "      <td>train</td>\n",
       "      <td>alarm</td>\n",
       "      <td>alarm_set</td>\n",
       "      <td>wake me up at nine am on friday</td>\n",
       "      <td>wake me up at [time : nine am] on [date : friday]</td>\n",
       "      <td>1</td>\n",
       "    </tr>\n",
       "    <tr>\n",
       "      <th>2</th>\n",
       "      <td>2</td>\n",
       "      <td>en-US</td>\n",
       "      <td>train</td>\n",
       "      <td>alarm</td>\n",
       "      <td>alarm_set</td>\n",
       "      <td>set an alarm for two hours from now</td>\n",
       "      <td>set an alarm for [time : two hours from now]</td>\n",
       "      <td>1</td>\n",
       "    </tr>\n",
       "    <tr>\n",
       "      <th>4</th>\n",
       "      <td>4</td>\n",
       "      <td>en-US</td>\n",
       "      <td>train</td>\n",
       "      <td>audio</td>\n",
       "      <td>audio_volume_mute</td>\n",
       "      <td>olly quiet</td>\n",
       "      <td>olly quiet</td>\n",
       "      <td>1</td>\n",
       "    </tr>\n",
       "    <tr>\n",
       "      <th>5</th>\n",
       "      <td>5</td>\n",
       "      <td>en-US</td>\n",
       "      <td>train</td>\n",
       "      <td>audio</td>\n",
       "      <td>audio_volume_mute</td>\n",
       "      <td>stop</td>\n",
       "      <td>stop</td>\n",
       "      <td>1</td>\n",
       "    </tr>\n",
       "    <tr>\n",
       "      <th>6</th>\n",
       "      <td>6</td>\n",
       "      <td>en-US</td>\n",
       "      <td>train</td>\n",
       "      <td>audio</td>\n",
       "      <td>audio_volume_mute</td>\n",
       "      <td>olly pause for ten seconds</td>\n",
       "      <td>olly pause for [time : ten seconds]</td>\n",
       "      <td>1</td>\n",
       "    </tr>\n",
       "  </tbody>\n",
       "</table>\n",
       "</div>"
      ],
      "text/plain": [
       "   id locale partition scenario             intent   \n",
       "1   1  en-US     train    alarm          alarm_set  \\\n",
       "2   2  en-US     train    alarm          alarm_set   \n",
       "4   4  en-US     train    audio  audio_volume_mute   \n",
       "5   5  en-US     train    audio  audio_volume_mute   \n",
       "6   6  en-US     train    audio  audio_volume_mute   \n",
       "\n",
       "                                   utt   \n",
       "1      wake me up at nine am on friday  \\\n",
       "2  set an alarm for two hours from now   \n",
       "4                           olly quiet   \n",
       "5                                 stop   \n",
       "6           olly pause for ten seconds   \n",
       "\n",
       "                                           annot_utt  worker_id  \n",
       "1  wake me up at [time : nine am] on [date : friday]          1  \n",
       "2       set an alarm for [time : two hours from now]          1  \n",
       "4                                         olly quiet          1  \n",
       "5                                               stop          1  \n",
       "6                olly pause for [time : ten seconds]          1  "
      ]
     },
     "execution_count": 40,
     "metadata": {},
     "output_type": "execute_result"
    }
   ],
   "source": [
    "import pandas as pd\n",
    "\n",
    "massive_en = pd.read_csv('../data/massive-us-en.csv')\n",
    "massive_en_train = massive_en[massive_en['partition'] == 'train']\n",
    "massive_en_dev = massive_en[massive_en['partition'] == 'dev']\n",
    "\n",
    "massive_en_train.head() \n"
   ]
  },
  {
   "cell_type": "code",
   "execution_count": 41,
   "metadata": {},
   "outputs": [],
   "source": [
    "from transformers import DistilBertTokenizer\n",
    "\n",
    "tokenizer = DistilBertTokenizer.from_pretrained('distilbert-base-uncased')\n",
    "\n",
    "train_encodings = tokenizer(massive_en_train['utt'].tolist(), truncation=True, padding=True)\n",
    "dev_encodings = tokenizer(massive_en_dev['utt'].tolist(), truncation=True, padding=True)"
   ]
  },
  {
   "cell_type": "code",
   "execution_count": 42,
   "metadata": {},
   "outputs": [],
   "source": [
    "import torch\n",
    "\n",
    "labels = massive_en['intent'].unique().tolist()\n",
    "label_map = {label: index for index, label in enumerate(labels)}\n",
    "\n",
    "train_labels = torch.tensor([label_map[label] for label in massive_en_train['intent']])\n",
    "dev_labels = torch.tensor([label_map[label] for label in massive_en_dev['intent']])\n",
    "\n",
    "train_dataset = torch.utils.data.TensorDataset(\n",
    "    torch.tensor(train_encodings['input_ids']), \n",
    "    torch.tensor(train_encodings['attention_mask']), \n",
    "    train_labels\n",
    ")\n",
    "dev_dataset = torch.utils.data.TensorDataset(\n",
    "    torch.tensor(dev_encodings['input_ids']), \n",
    "    torch.tensor(dev_encodings['attention_mask']), \n",
    "    dev_labels\n",
    ")"
   ]
  },
  {
   "cell_type": "code",
   "execution_count": 43,
   "metadata": {},
   "outputs": [
    {
     "name": "stderr",
     "output_type": "stream",
     "text": [
      "Some weights of the model checkpoint at distilbert-base-uncased were not used when initializing DistilBertForSequenceClassification: ['vocab_layer_norm.bias', 'vocab_projector.bias', 'vocab_transform.weight', 'vocab_transform.bias', 'vocab_projector.weight', 'vocab_layer_norm.weight']\n",
      "- This IS expected if you are initializing DistilBertForSequenceClassification from the checkpoint of a model trained on another task or with another architecture (e.g. initializing a BertForSequenceClassification model from a BertForPreTraining model).\n",
      "- This IS NOT expected if you are initializing DistilBertForSequenceClassification from the checkpoint of a model that you expect to be exactly identical (initializing a BertForSequenceClassification model from a BertForSequenceClassification model).\n",
      "Some weights of DistilBertForSequenceClassification were not initialized from the model checkpoint at distilbert-base-uncased and are newly initialized: ['classifier.weight', 'pre_classifier.weight', 'classifier.bias', 'pre_classifier.bias']\n",
      "You should probably TRAIN this model on a down-stream task to be able to use it for predictions and inference.\n"
     ]
    }
   ],
   "source": [
    "from transformers import DistilBertForSequenceClassification\n",
    "\n",
    "model = DistilBertForSequenceClassification.from_pretrained('distilbert-base-uncased', num_labels=60)"
   ]
  },
  {
   "cell_type": "code",
   "execution_count": 44,
   "metadata": {},
   "outputs": [
    {
     "name": "stderr",
     "output_type": "stream",
     "text": [
      "/Users/Aryan_Goel/intent-classification/project/lib/python3.11/site-packages/transformers/optimization.py:391: FutureWarning: This implementation of AdamW is deprecated and will be removed in a future version. Use the PyTorch implementation torch.optim.AdamW instead, or set `no_deprecation_warning=True` to disable this warning\n",
      "  warnings.warn(\n"
     ]
    },
    {
     "name": "stdout",
     "output_type": "stream",
     "text": [
      "Epoch: 1, Accuracy: 86.326\n",
      "Epoch: 2, Accuracy: 87.457\n",
      "Epoch: 3, Accuracy: 87.850\n"
     ]
    }
   ],
   "source": [
    "# DO NOT RUN THIS CELL IF YOU HAVE DOWNLOADED MODEL FROM S3 BUCKET\n",
    "\n",
    "from torch.utils.data import DataLoader\n",
    "from transformers import AdamW\n",
    "\n",
    "device = -1\n",
    "\n",
    "train_loader = DataLoader(train_dataset, batch_size=16, shuffle=True)\n",
    "dev_loader = DataLoader(dev_dataset, batch_size=16, shuffle=True)\n",
    "\n",
    "optimizer = AdamW(model.parameters(), lr=5e-5)\n",
    "epochs = 3\n",
    "\n",
    "for epoch in range(epochs):\n",
    "    model.train()\n",
    "    for batch in train_loader:\n",
    "        optimizer.zero_grad()\n",
    "        input_ids = batch[0]\n",
    "        attention_mask = batch[1]\n",
    "        labels = batch[2]\n",
    "        outputs = model(input_ids, attention_mask=attention_mask, labels=labels)\n",
    "        loss = outputs[0]\n",
    "        loss.backward()\n",
    "        optimizer.step()\n",
    "    \n",
    "    model.eval()\n",
    "    correct = 0\n",
    "    total = 0\n",
    "    for batch in dev_loader:\n",
    "        input_ids = batch[0]\n",
    "        attention_mask = batch[1]\n",
    "        labels = batch[2]\n",
    "        outputs = model(input_ids, attention_mask=attention_mask)\n",
    "        _, predicted = torch.max(outputs[0].data, 1)\n",
    "        total += labels.size(0)\n",
    "        correct += (predicted == labels).sum().item()\n",
    "    \n",
    "    print(f'Epoch: %d, Accuracy: %.3f' % (epoch + 1, 100 * correct / total))\n",
    "\n",
    "    torch.save(model.state_dict(), '../models/massive-us-en.pt')"
   ]
  },
  {
   "cell_type": "code",
   "execution_count": 65,
   "metadata": {},
   "outputs": [
    {
     "name": "stderr",
     "output_type": "stream",
     "text": [
      "Some weights of the model checkpoint at distilbert-base-uncased were not used when initializing DistilBertForSequenceClassification: ['vocab_layer_norm.bias', 'vocab_projector.bias', 'vocab_transform.weight', 'vocab_transform.bias', 'vocab_projector.weight', 'vocab_layer_norm.weight']\n",
      "- This IS expected if you are initializing DistilBertForSequenceClassification from the checkpoint of a model trained on another task or with another architecture (e.g. initializing a BertForSequenceClassification model from a BertForPreTraining model).\n",
      "- This IS NOT expected if you are initializing DistilBertForSequenceClassification from the checkpoint of a model that you expect to be exactly identical (initializing a BertForSequenceClassification model from a BertForSequenceClassification model).\n",
      "Some weights of DistilBertForSequenceClassification were not initialized from the model checkpoint at distilbert-base-uncased and are newly initialized: ['classifier.weight', 'pre_classifier.weight', 'classifier.bias', 'pre_classifier.bias']\n",
      "You should probably TRAIN this model on a down-stream task to be able to use it for predictions and inference.\n"
     ]
    },
    {
     "ename": "TypeError",
     "evalue": "'str' object is not callable",
     "output_type": "error",
     "traceback": [
      "\u001b[0;31m---------------------------------------------------------------------------\u001b[0m",
      "\u001b[0;31mTypeError\u001b[0m                                 Traceback (most recent call last)",
      "Cell \u001b[0;32mIn[65], line 11\u001b[0m\n\u001b[1;32m      8\u001b[0m model\u001b[39m.\u001b[39mload_state_dict(torch\u001b[39m.\u001b[39mload(\u001b[39m'\u001b[39m\u001b[39m../models/massive-us-en.pt\u001b[39m\u001b[39m'\u001b[39m, map_location\u001b[39m=\u001b[39mtorch\u001b[39m.\u001b[39mdevice(\u001b[39m'\u001b[39m\u001b[39mcpu\u001b[39m\u001b[39m'\u001b[39m)))\n\u001b[1;32m      9\u001b[0m model\u001b[39m.\u001b[39meval()\n\u001b[0;32m---> 11\u001b[0m user_input \u001b[39m=\u001b[39m \u001b[39minput\u001b[39;49m(\u001b[39m'\u001b[39;49m\u001b[39mEnter a sentence: \u001b[39;49m\u001b[39m'\u001b[39;49m)\n\u001b[1;32m     12\u001b[0m user_input \u001b[39m=\u001b[39m tokenizer(user_input, truncation\u001b[39m=\u001b[39m\u001b[39mTrue\u001b[39;00m, padding\u001b[39m=\u001b[39m\u001b[39mTrue\u001b[39;00m)\n\u001b[1;32m     13\u001b[0m input_ids \u001b[39m=\u001b[39m torch\u001b[39m.\u001b[39mtensor(user_input[\u001b[39m'\u001b[39m\u001b[39minput_ids\u001b[39m\u001b[39m'\u001b[39m])\u001b[39m.\u001b[39munsqueeze(\u001b[39m0\u001b[39m)\n",
      "\u001b[0;31mTypeError\u001b[0m: 'str' object is not callable"
     ]
    }
   ],
   "source": [
    "import torch\n",
    "import numpy as np\n",
    "from transformers import DistilBertTokenizer, DistilBertForSequenceClassification\n",
    "\n",
    "tokenizer = DistilBertTokenizer.from_pretrained('distilbert-base-uncased')\n",
    "\n",
    "model = DistilBertForSequenceClassification.from_pretrained('distilbert-base-uncased', num_labels=60)\n",
    "model.load_state_dict(torch.load('../models/massive-us-en.pt', map_location=torch.device('cpu')))\n",
    "model.eval()\n",
    "\n",
    "user_input = input('Enter a sentence: ')\n",
    "user_input = tokenizer(user_input, truncation=True, padding=True)\n",
    "input_ids = torch.tensor(user_input['input_ids']).unsqueeze(0)\n",
    "attention_mask = torch.tensor(user_input['attention_mask']).unsqueeze(0)\n",
    "outputs = model(input_ids, attention_mask=attention_mask)\n",
    "scores = outputs[0].detach().numpy().flatten()\n",
    "\n",
    "# convert scores to probabilities using softmax function\n",
    "probs = np.exp(scores) / np.sum(np.exp(scores))\n",
    "\n",
    "_labels = massive_en['intent'].unique().tolist()\n",
    "\n",
    "label_probs = {}\n",
    "for i in range(len(probs)):\n",
    "    label_probs[_labels[i]] = probs[i]\n",
    "\n",
    "sorted_labels = sorted(label_probs.items(), key=lambda x: x[1], reverse=True)\n",
    "\n",
    "print(\"Intents sorted by predicted accuracy:\")\n",
    "for intent, prob in sorted_labels:\n",
    "    print(f\"{intent}: {prob:.2%}\")\n"
   ]
  },
  {
   "cell_type": "code",
   "execution_count": 66,
   "metadata": {},
   "outputs": [
    {
     "name": "stdout",
     "output_type": "stream",
     "text": [
      "Test Accuracy: 87.290\n"
     ]
    }
   ],
   "source": [
    "from torch.utils.data import DataLoader\n",
    "import boto3\n",
    "import os\n",
    "\n",
    "device = -1\n",
    "\n",
    "massive_en_test = massive_en[massive_en['partition'] == 'test']\n",
    "test_encodings = tokenizer(massive_en_test['utt'].tolist(), truncation=True, padding=True)\n",
    "test_labels = torch.tensor([label_map[label] for label in massive_en_test['intent']])\n",
    "\n",
    "test_dataset = torch.utils.data.TensorDataset(\n",
    "    torch.tensor(test_encodings['input_ids']),\n",
    "    torch.tensor(test_encodings['attention_mask']),\n",
    "    test_labels\n",
    ")\n",
    "\n",
    "test_loader = DataLoader(test_dataset, batch_size=16, shuffle=False)\n",
    "\n",
    "model.eval()\n",
    "correct = 0\n",
    "total = 0\n",
    "for batch in test_loader:\n",
    "    input_ids = batch[0]\n",
    "    attention_mask = batch[1]\n",
    "    labels = batch[2]\n",
    "    with torch.no_grad():\n",
    "        outputs = model(input_ids, attention_mask=attention_mask)\n",
    "        _, predicted = torch.max(outputs[0].data, 1)\n",
    "        total += labels.size(0)\n",
    "        correct += (predicted == labels).sum().item()\n",
    "\n",
    "print(f'Test Accuracy: %.3f' % (100 * correct / total))"
   ]
  }
 ],
 "metadata": {
  "kernelspec": {
   "display_name": "project",
   "language": "python",
   "name": "python3"
  },
  "language_info": {
   "codemirror_mode": {
    "name": "ipython",
    "version": 3
   },
   "file_extension": ".py",
   "mimetype": "text/x-python",
   "name": "python",
   "nbconvert_exporter": "python",
   "pygments_lexer": "ipython3",
   "version": "3.11.3"
  },
  "orig_nbformat": 4
 },
 "nbformat": 4,
 "nbformat_minor": 2
}
