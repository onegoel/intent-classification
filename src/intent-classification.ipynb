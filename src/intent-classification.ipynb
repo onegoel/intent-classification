{
 "cells": [
  {
   "attachments": {},
   "cell_type": "markdown",
   "metadata": {},
   "source": [
    "Convert en-US of MASSIVE from jsonl to csv"
   ]
  },
  {
   "cell_type": "code",
   "execution_count": 2,
   "metadata": {},
   "outputs": [],
   "source": [
    "import csv\n",
    "import json\n",
    "\n",
    "massive_fields = ['id', 'locale', 'partition', 'scenario', 'intent', 'utt', 'annot_utt', 'worker_id']\n",
    "\n",
    "with open('../massive@1.0/data/en-US.jsonl', 'r') as infile, open('../data/massive-us-en.csv', 'w', newline='') as outfile:\n",
    "    writer = csv.writer(outfile)\n",
    "    writer.writerow(massive_fields) # Write the header row to CSV\n",
    "\n",
    "    for line in infile:\n",
    "        obj = json.loads(line)\n",
    "        writer.writerow([\n",
    "            obj['id'], \n",
    "            obj['locale'], \n",
    "            obj['partition'],\n",
    "            obj['scenario'], \n",
    "            obj['intent'], \n",
    "            obj['utt'], \n",
    "            obj['annot_utt'], \n",
    "            obj['worker_id']\n",
    "        ])"
   ]
  },
  {
   "attachments": {},
   "cell_type": "markdown",
   "metadata": {},
   "source": [
    "Install the required packages"
   ]
  },
  {
   "cell_type": "code",
   "execution_count": 3,
   "metadata": {},
   "outputs": [
    {
     "name": "stdout",
     "output_type": "stream",
     "text": [
      "\u001b[31mERROR: Could not open requirements file: [Errno 2] No such file or directory: 'dependencies.txt'\u001b[0m\u001b[31m\n",
      "\u001b[0m\n",
      "\u001b[1m[\u001b[0m\u001b[34;49mnotice\u001b[0m\u001b[1;39;49m]\u001b[0m\u001b[39;49m A new release of pip is available: \u001b[0m\u001b[31;49m23.0.1\u001b[0m\u001b[39;49m -> \u001b[0m\u001b[32;49m23.1.2\u001b[0m\n",
      "\u001b[1m[\u001b[0m\u001b[34;49mnotice\u001b[0m\u001b[1;39;49m]\u001b[0m\u001b[39;49m To update, run: \u001b[0m\u001b[32;49mpip install --upgrade pip\u001b[0m\n",
      "Note: you may need to restart the kernel to use updated packages.\n"
     ]
    }
   ],
   "source": [
    "%pip install -r dependencies.txt"
   ]
  },
  {
   "cell_type": "code",
   "execution_count": 4,
   "metadata": {},
   "outputs": [
    {
     "data": {
      "text/html": [
       "<div>\n",
       "<style scoped>\n",
       "    .dataframe tbody tr th:only-of-type {\n",
       "        vertical-align: middle;\n",
       "    }\n",
       "\n",
       "    .dataframe tbody tr th {\n",
       "        vertical-align: top;\n",
       "    }\n",
       "\n",
       "    .dataframe thead th {\n",
       "        text-align: right;\n",
       "    }\n",
       "</style>\n",
       "<table border=\"1\" class=\"dataframe\">\n",
       "  <thead>\n",
       "    <tr style=\"text-align: right;\">\n",
       "      <th></th>\n",
       "      <th>id</th>\n",
       "      <th>locale</th>\n",
       "      <th>partition</th>\n",
       "      <th>scenario</th>\n",
       "      <th>intent</th>\n",
       "      <th>utt</th>\n",
       "      <th>annot_utt</th>\n",
       "      <th>worker_id</th>\n",
       "    </tr>\n",
       "  </thead>\n",
       "  <tbody>\n",
       "    <tr>\n",
       "      <th>1</th>\n",
       "      <td>1</td>\n",
       "      <td>en-US</td>\n",
       "      <td>train</td>\n",
       "      <td>alarm</td>\n",
       "      <td>alarm_set</td>\n",
       "      <td>wake me up at nine am on friday</td>\n",
       "      <td>wake me up at [time : nine am] on [date : friday]</td>\n",
       "      <td>1</td>\n",
       "    </tr>\n",
       "    <tr>\n",
       "      <th>2</th>\n",
       "      <td>2</td>\n",
       "      <td>en-US</td>\n",
       "      <td>train</td>\n",
       "      <td>alarm</td>\n",
       "      <td>alarm_set</td>\n",
       "      <td>set an alarm for two hours from now</td>\n",
       "      <td>set an alarm for [time : two hours from now]</td>\n",
       "      <td>1</td>\n",
       "    </tr>\n",
       "    <tr>\n",
       "      <th>4</th>\n",
       "      <td>4</td>\n",
       "      <td>en-US</td>\n",
       "      <td>train</td>\n",
       "      <td>audio</td>\n",
       "      <td>audio_volume_mute</td>\n",
       "      <td>olly quiet</td>\n",
       "      <td>olly quiet</td>\n",
       "      <td>1</td>\n",
       "    </tr>\n",
       "    <tr>\n",
       "      <th>5</th>\n",
       "      <td>5</td>\n",
       "      <td>en-US</td>\n",
       "      <td>train</td>\n",
       "      <td>audio</td>\n",
       "      <td>audio_volume_mute</td>\n",
       "      <td>stop</td>\n",
       "      <td>stop</td>\n",
       "      <td>1</td>\n",
       "    </tr>\n",
       "    <tr>\n",
       "      <th>6</th>\n",
       "      <td>6</td>\n",
       "      <td>en-US</td>\n",
       "      <td>train</td>\n",
       "      <td>audio</td>\n",
       "      <td>audio_volume_mute</td>\n",
       "      <td>olly pause for ten seconds</td>\n",
       "      <td>olly pause for [time : ten seconds]</td>\n",
       "      <td>1</td>\n",
       "    </tr>\n",
       "  </tbody>\n",
       "</table>\n",
       "</div>"
      ],
      "text/plain": [
       "   id locale partition scenario             intent   \n",
       "1   1  en-US     train    alarm          alarm_set  \\\n",
       "2   2  en-US     train    alarm          alarm_set   \n",
       "4   4  en-US     train    audio  audio_volume_mute   \n",
       "5   5  en-US     train    audio  audio_volume_mute   \n",
       "6   6  en-US     train    audio  audio_volume_mute   \n",
       "\n",
       "                                   utt   \n",
       "1      wake me up at nine am on friday  \\\n",
       "2  set an alarm for two hours from now   \n",
       "4                           olly quiet   \n",
       "5                                 stop   \n",
       "6           olly pause for ten seconds   \n",
       "\n",
       "                                           annot_utt  worker_id  \n",
       "1  wake me up at [time : nine am] on [date : friday]          1  \n",
       "2       set an alarm for [time : two hours from now]          1  \n",
       "4                                         olly quiet          1  \n",
       "5                                               stop          1  \n",
       "6                olly pause for [time : ten seconds]          1  "
      ]
     },
     "execution_count": 4,
     "metadata": {},
     "output_type": "execute_result"
    }
   ],
   "source": [
    "import pandas as pd\n",
    "\n",
    "massive_en = pd.read_csv('../data/massive-us-en.csv')\n",
    "massive_en_train = massive_en[massive_en['partition'] == 'train']\n",
    "massive_en_dev = massive_en[massive_en['partition'] == 'dev']\n",
    "\n",
    "massive_en_train.head() \n"
   ]
  },
  {
   "cell_type": "code",
   "execution_count": 5,
   "metadata": {},
   "outputs": [
    {
     "name": "stderr",
     "output_type": "stream",
     "text": [
      "/Users/Aryan_Goel/intent-classification/project/lib/python3.11/site-packages/tqdm/auto.py:21: TqdmWarning: IProgress not found. Please update jupyter and ipywidgets. See https://ipywidgets.readthedocs.io/en/stable/user_install.html\n",
      "  from .autonotebook import tqdm as notebook_tqdm\n"
     ]
    }
   ],
   "source": [
    "from transformers import DistilBertTokenizer\n",
    "\n",
    "tokenizer = DistilBertTokenizer.from_pretrained('distilbert-base-uncased')\n",
    "\n",
    "train_encodings = tokenizer(massive_en_train['utt'].tolist(), truncation=True, padding=True)\n",
    "dev_encodings = tokenizer(massive_en_dev['utt'].tolist(), truncation=True, padding=True)"
   ]
  },
  {
   "cell_type": "code",
   "execution_count": 6,
   "metadata": {},
   "outputs": [],
   "source": [
    "import torch\n",
    "\n",
    "labels = massive_en['intent'].unique().tolist()\n",
    "label_map = {label: index for index, label in enumerate(labels)}\n",
    "\n",
    "train_labels = torch.tensor([label_map[label] for label in massive_en_train['intent']])\n",
    "dev_labels = torch.tensor([label_map[label] for label in massive_en_dev['intent']])\n",
    "\n",
    "train_dataset = torch.utils.data.TensorDataset(\n",
    "    torch.tensor(train_encodings['input_ids']), \n",
    "    torch.tensor(train_encodings['attention_mask']), \n",
    "    train_labels\n",
    ")\n",
    "dev_dataset = torch.utils.data.TensorDataset(\n",
    "    torch.tensor(dev_encodings['input_ids']), \n",
    "    torch.tensor(dev_encodings['attention_mask']), \n",
    "    dev_labels\n",
    ")"
   ]
  },
  {
   "cell_type": "code",
   "execution_count": 43,
   "metadata": {},
   "outputs": [
    {
     "name": "stderr",
     "output_type": "stream",
     "text": [
      "Some weights of the model checkpoint at distilbert-base-uncased were not used when initializing DistilBertForSequenceClassification: ['vocab_layer_norm.bias', 'vocab_projector.bias', 'vocab_transform.weight', 'vocab_transform.bias', 'vocab_projector.weight', 'vocab_layer_norm.weight']\n",
      "- This IS expected if you are initializing DistilBertForSequenceClassification from the checkpoint of a model trained on another task or with another architecture (e.g. initializing a BertForSequenceClassification model from a BertForPreTraining model).\n",
      "- This IS NOT expected if you are initializing DistilBertForSequenceClassification from the checkpoint of a model that you expect to be exactly identical (initializing a BertForSequenceClassification model from a BertForSequenceClassification model).\n",
      "Some weights of DistilBertForSequenceClassification were not initialized from the model checkpoint at distilbert-base-uncased and are newly initialized: ['classifier.weight', 'pre_classifier.weight', 'classifier.bias', 'pre_classifier.bias']\n",
      "You should probably TRAIN this model on a down-stream task to be able to use it for predictions and inference.\n"
     ]
    }
   ],
   "source": [
    "from transformers import DistilBertForSequenceClassification\n",
    "\n",
    "model = DistilBertForSequenceClassification.from_pretrained('distilbert-base-uncased', num_labels=60)"
   ]
  },
  {
   "cell_type": "code",
   "execution_count": 44,
   "metadata": {},
   "outputs": [
    {
     "name": "stderr",
     "output_type": "stream",
     "text": [
      "/Users/Aryan_Goel/intent-classification/project/lib/python3.11/site-packages/transformers/optimization.py:391: FutureWarning: This implementation of AdamW is deprecated and will be removed in a future version. Use the PyTorch implementation torch.optim.AdamW instead, or set `no_deprecation_warning=True` to disable this warning\n",
      "  warnings.warn(\n"
     ]
    },
    {
     "name": "stdout",
     "output_type": "stream",
     "text": [
      "Epoch: 1, Accuracy: 86.326\n",
      "Epoch: 2, Accuracy: 87.457\n",
      "Epoch: 3, Accuracy: 87.850\n"
     ]
    }
   ],
   "source": [
    "# DO NOT RUN THIS CELL IF YOU HAVE DOWNLOADED MODEL FROM S3 BUCKET\n",
    "\n",
    "from torch.utils.data import DataLoader\n",
    "from transformers import AdamW\n",
    "\n",
    "device = -1\n",
    "\n",
    "train_loader = DataLoader(train_dataset, batch_size=16, shuffle=True)\n",
    "dev_loader = DataLoader(dev_dataset, batch_size=16, shuffle=True)\n",
    "\n",
    "optimizer = AdamW(model.parameters(), lr=5e-5)\n",
    "epochs = 3\n",
    "\n",
    "for epoch in range(epochs):\n",
    "    model.train()\n",
    "    for batch in train_loader:\n",
    "        optimizer.zero_grad()\n",
    "        input_ids = batch[0]\n",
    "        attention_mask = batch[1]\n",
    "        labels = batch[2]\n",
    "        outputs = model(input_ids, attention_mask=attention_mask, labels=labels)\n",
    "        loss = outputs[0]\n",
    "        loss.backward()\n",
    "        optimizer.step()\n",
    "    \n",
    "    model.eval()\n",
    "    correct = 0\n",
    "    total = 0\n",
    "    for batch in dev_loader:\n",
    "        input_ids = batch[0]\n",
    "        attention_mask = batch[1]\n",
    "        labels = batch[2]\n",
    "        outputs = model(input_ids, attention_mask=attention_mask)\n",
    "        _, predicted = torch.max(outputs[0].data, 1)\n",
    "        total += labels.size(0)\n",
    "        correct += (predicted == labels).sum().item()\n",
    "    \n",
    "    print(f'Epoch: %d, Accuracy: %.3f' % (epoch + 1, 100 * correct / total))\n",
    "\n",
    "    torch.save(model.state_dict(), '../models/massive-us-en.pt')"
   ]
  },
  {
   "cell_type": "code",
   "execution_count": 7,
   "metadata": {},
   "outputs": [
    {
     "name": "stderr",
     "output_type": "stream",
     "text": [
      "Some weights of the model checkpoint at distilbert-base-uncased were not used when initializing DistilBertForSequenceClassification: ['vocab_layer_norm.bias', 'vocab_transform.bias', 'vocab_transform.weight', 'vocab_projector.bias', 'vocab_projector.weight', 'vocab_layer_norm.weight']\n",
      "- This IS expected if you are initializing DistilBertForSequenceClassification from the checkpoint of a model trained on another task or with another architecture (e.g. initializing a BertForSequenceClassification model from a BertForPreTraining model).\n",
      "- This IS NOT expected if you are initializing DistilBertForSequenceClassification from the checkpoint of a model that you expect to be exactly identical (initializing a BertForSequenceClassification model from a BertForSequenceClassification model).\n",
      "Some weights of DistilBertForSequenceClassification were not initialized from the model checkpoint at distilbert-base-uncased and are newly initialized: ['pre_classifier.bias', 'classifier.bias', 'pre_classifier.weight', 'classifier.weight']\n",
      "You should probably TRAIN this model on a down-stream task to be able to use it for predictions and inference.\n"
     ]
    },
    {
     "name": "stdout",
     "output_type": "stream",
     "text": [
      "Intents sorted by predicted accuracy:\n",
      "general_quirky: 26.50%\n",
      "cooking_recipe: 19.62%\n",
      "play_music: 7.26%\n",
      "takeaway_order: 6.47%\n",
      "calendar_set: 4.46%\n",
      "calendar_query: 4.13%\n",
      "qa_factoid: 2.16%\n",
      "weather_query: 1.78%\n",
      "recommendation_locations: 1.74%\n",
      "qa_definition: 1.72%\n",
      "takeaway_query: 1.68%\n",
      "play_podcasts: 1.47%\n",
      "lists_createoradd: 1.28%\n",
      "recommendation_movies: 1.17%\n",
      "play_game: 1.08%\n",
      "general_greet: 1.04%\n",
      "iot_coffee: 1.03%\n",
      "transport_query: 1.03%\n",
      "recommendation_events: 0.96%\n",
      "play_radio: 0.93%\n",
      "play_audiobook: 0.85%\n",
      "lists_remove: 0.74%\n",
      "music_query: 0.70%\n",
      "lists_query: 0.68%\n",
      "transport_traffic: 0.67%\n",
      "audio_volume_mute: 0.66%\n",
      "calendar_remove: 0.53%\n",
      "music_likeness: 0.50%\n",
      "news_query: 0.43%\n",
      "music_settings: 0.39%\n",
      "email_querycontact: 0.35%\n",
      "datetime_query: 0.35%\n",
      "audio_volume_up: 0.35%\n",
      "cooking_query: 0.35%\n",
      "general_joke: 0.34%\n",
      "email_query: 0.31%\n",
      "iot_hue_lightoff: 0.29%\n",
      "audio_volume_other: 0.28%\n",
      "iot_cleaning: 0.28%\n",
      "iot_hue_lightchange: 0.28%\n",
      "social_post: 0.27%\n",
      "email_sendemail: 0.25%\n",
      "alarm_query: 0.24%\n",
      "qa_stock: 0.23%\n",
      "iot_wemo_on: 0.23%\n",
      "qa_maths: 0.21%\n",
      "transport_ticket: 0.21%\n",
      "music_dislikeness: 0.19%\n",
      "iot_hue_lighton: 0.17%\n",
      "alarm_set: 0.17%\n",
      "alarm_remove: 0.15%\n",
      "audio_volume_down: 0.14%\n",
      "social_query: 0.12%\n",
      "iot_hue_lightup: 0.11%\n",
      "qa_currency: 0.10%\n",
      "transport_taxi: 0.09%\n",
      "iot_hue_lightdim: 0.08%\n",
      "email_addcontact: 0.07%\n",
      "datetime_convert: 0.06%\n",
      "iot_wemo_off: 0.06%\n"
     ]
    }
   ],
   "source": [
    "import torch\n",
    "import numpy as np\n",
    "from transformers import DistilBertTokenizer, DistilBertForSequenceClassification\n",
    "\n",
    "tokenizer = DistilBertTokenizer.from_pretrained('distilbert-base-uncased')\n",
    "\n",
    "model = DistilBertForSequenceClassification.from_pretrained('distilbert-base-uncased', num_labels=60)\n",
    "model.load_state_dict(torch.load('../models/massive-us-en.pt', map_location=torch.device('cpu')))\n",
    "model.eval()\n",
    "\n",
    "user_input = input('Enter a sentence: ')\n",
    "user_input = tokenizer(user_input, truncation=True, padding=True)\n",
    "input_ids = torch.tensor(user_input['input_ids']).unsqueeze(0)\n",
    "attention_mask = torch.tensor(user_input['attention_mask']).unsqueeze(0)\n",
    "outputs = model(input_ids, attention_mask=attention_mask)\n",
    "scores = outputs[0].detach().numpy().flatten()\n",
    "\n",
    "# convert scores to probabilities using softmax function\n",
    "probs = np.exp(scores) / np.sum(np.exp(scores))\n",
    "\n",
    "_labels = massive_en['intent'].unique().tolist()\n",
    "\n",
    "label_probs = {}\n",
    "for i in range(len(probs)):\n",
    "    label_probs[_labels[i]] = probs[i]\n",
    "\n",
    "sorted_labels = sorted(label_probs.items(), key=lambda x: x[1], reverse=True)\n",
    "\n",
    "print(\"Intents sorted by predicted accuracy:\")\n",
    "for intent, prob in sorted_labels:\n",
    "    print(f\"{intent}: {prob:.2%}\")\n"
   ]
  },
  {
   "cell_type": "code",
   "execution_count": 66,
   "metadata": {},
   "outputs": [
    {
     "name": "stdout",
     "output_type": "stream",
     "text": [
      "Test Accuracy: 87.290\n"
     ]
    }
   ],
   "source": [
    "from torch.utils.data import DataLoader\n",
    "import boto3\n",
    "import os\n",
    "\n",
    "device = -1\n",
    "\n",
    "massive_en_test = massive_en[massive_en['partition'] == 'test']\n",
    "test_encodings = tokenizer(massive_en_test['utt'].tolist(), truncation=True, padding=True)\n",
    "test_labels = torch.tensor([label_map[label] for label in massive_en_test['intent']])\n",
    "\n",
    "test_dataset = torch.utils.data.TensorDataset(\n",
    "    torch.tensor(test_encodings['input_ids']),\n",
    "    torch.tensor(test_encodings['attention_mask']),\n",
    "    test_labels\n",
    ")\n",
    "\n",
    "test_loader = DataLoader(test_dataset, batch_size=16, shuffle=False)\n",
    "\n",
    "model.eval()\n",
    "correct = 0\n",
    "total = 0\n",
    "for batch in test_loader:\n",
    "    input_ids = batch[0]\n",
    "    attention_mask = batch[1]\n",
    "    labels = batch[2]\n",
    "    with torch.no_grad():\n",
    "        outputs = model(input_ids, attention_mask=attention_mask)\n",
    "        _, predicted = torch.max(outputs[0].data, 1)\n",
    "        total += labels.size(0)\n",
    "        correct += (predicted == labels).sum().item()\n",
    "\n",
    "print(f'Test Accuracy: %.3f' % (100 * correct / total))"
   ]
  },
  {
   "cell_type": "code",
   "execution_count": 4,
   "metadata": {},
   "outputs": [
    {
     "data": {
      "text/plain": [
       "'data_full.json'"
      ]
     },
     "execution_count": 4,
     "metadata": {},
     "output_type": "execute_result"
    }
   ],
   "source": [
    "import wget\n",
    "url = 'https://raw.githubusercontent.com/clinc/oos-eval/master/data/data_full.json'\n",
    "wget.download(url)"
   ]
  },
  {
   "cell_type": "code",
   "execution_count": 10,
   "metadata": {},
   "outputs": [],
   "source": [
    "import csv\n",
    "import json\n",
    "\n",
    "def convert_json_to_csv(input_file, output_file):\n",
    "    id = 0\n",
    "    with open(input_file, 'r') as json_file:\n",
    "        data = json.load(json_file)\n",
    "        \n",
    "    with open(output_file, 'w', newline='') as csv_file:\n",
    "        writer = csv.writer(csv_file)\n",
    "        writer.writerow(['id', 'utt', 'intent', 'partition'])\n",
    "        \n",
    "        datasets = ['oos_val', 'val', 'oos_test', 'test', 'oos_train', 'train']\n",
    "        \n",
    "        for dataset in datasets:\n",
    "            for example in data[dataset]:\n",
    "                writer.writerow([id, example[0], example[1], dataset])\n",
    "                id += 1\n",
    "\n",
    "# Usage example\n",
    "input_file = '../data/clinc_oos.json'\n",
    "output_file = '../data/clinc_oos.csv'\n",
    "convert_json_to_csv(input_file, output_file)\n"
   ]
  }
 ],
 "metadata": {
  "kernelspec": {
   "display_name": "project",
   "language": "python",
   "name": "python3"
  },
  "language_info": {
   "codemirror_mode": {
    "name": "ipython",
    "version": 3
   },
   "file_extension": ".py",
   "mimetype": "text/x-python",
   "name": "python",
   "nbconvert_exporter": "python",
   "pygments_lexer": "ipython3",
   "version": "3.11.3"
  },
  "orig_nbformat": 4
 },
 "nbformat": 4,
 "nbformat_minor": 2
}
