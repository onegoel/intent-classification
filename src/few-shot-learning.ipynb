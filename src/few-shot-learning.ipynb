{
 "cells": [
  {
   "cell_type": "code",
   "execution_count": 8,
   "metadata": {},
   "outputs": [],
   "source": [
    "import torch\n",
    "import pandas as pd\n",
    "from transformers import BertTokenizer, BertForSequenceClassification"
   ]
  },
  {
   "cell_type": "code",
   "execution_count": 9,
   "metadata": {},
   "outputs": [],
   "source": [
    "# Load the merged dataset\n",
    "merged_dataset = pd.read_csv('../data/merged.csv')\n",
    "\n",
    "# Encode the labels\n",
    "labels = merged_dataset['intent'].unique().tolist()\n",
    "label_map = {label: index for index, label in enumerate(labels)}\n",
    "\n",
    "# Split the dataset into train, validation, and test\n",
    "train_data = merged_dataset[merged_dataset['partition'] == 'train']\n",
    "val_data = merged_dataset[merged_dataset['partition'] == 'val']\n",
    "test_data = merged_dataset[merged_dataset['partition'] == 'test']\n"
   ]
  },
  {
   "cell_type": "code",
   "execution_count": 10,
   "metadata": {},
   "outputs": [
    {
     "name": "stderr",
     "output_type": "stream",
     "text": [
      "Some weights of the model checkpoint at bert-base-multilingual-cased were not used when initializing BertForSequenceClassification: ['cls.seq_relationship.bias', 'cls.predictions.bias', 'cls.predictions.transform.LayerNorm.weight', 'cls.predictions.transform.LayerNorm.bias', 'cls.predictions.transform.dense.bias', 'cls.seq_relationship.weight', 'cls.predictions.transform.dense.weight']\n",
      "- This IS expected if you are initializing BertForSequenceClassification from the checkpoint of a model trained on another task or with another architecture (e.g. initializing a BertForSequenceClassification model from a BertForPreTraining model).\n",
      "- This IS NOT expected if you are initializing BertForSequenceClassification from the checkpoint of a model that you expect to be exactly identical (initializing a BertForSequenceClassification model from a BertForSequenceClassification model).\n",
      "Some weights of BertForSequenceClassification were not initialized from the model checkpoint at bert-base-multilingual-cased and are newly initialized: ['classifier.bias', 'classifier.weight']\n",
      "You should probably TRAIN this model on a down-stream task to be able to use it for predictions and inference.\n"
     ]
    }
   ],
   "source": [
    "tokenizer = BertTokenizer.from_pretrained('bert-base-multilingual-cased')\n",
    "model = BertForSequenceClassification.from_pretrained('bert-base-multilingual-cased', num_labels=len(label_map))"
   ]
  },
  {
   "cell_type": "code",
   "execution_count": 15,
   "metadata": {},
   "outputs": [],
   "source": [
    "def create_data_loader(data, batch_size, shuffle=True):\n",
    "    input_texts = data['utt'].tolist()\n",
    "    intent_labels = data['intent'].tolist()\n",
    "\n",
    "    # Create a dictionary to map unique intent labels to numerical values\n",
    "    label_map = {label: i for i, label in enumerate(set(intent_labels))}\n",
    "\n",
    "    labels = torch.tensor([label_map[label] for label in intent_labels])\n",
    "\n",
    "    input_ids = []\n",
    "    attention_masks = []\n",
    "\n",
    "    for input_text in input_texts:\n",
    "        inputs = tokenizer.encode_plus(\n",
    "            input_text,\n",
    "            add_special_tokens=True,\n",
    "            max_length=128,\n",
    "            padding='max_length',\n",
    "            truncation=True,\n",
    "            return_tensors='pt'\n",
    "        )\n",
    "        input_ids.append(inputs['input_ids'].squeeze())\n",
    "        attention_masks.append(inputs['attention_mask'].squeeze())\n",
    "\n",
    "    input_ids = torch.stack(input_ids)\n",
    "    attention_masks = torch.stack(attention_masks)\n",
    "\n",
    "    dataset = torch.utils.data.TensorDataset(input_ids, attention_masks, labels)\n",
    "    return torch.utils.data.DataLoader(dataset, batch_size=batch_size, shuffle=shuffle)\n"
   ]
  },
  {
   "cell_type": "code",
   "execution_count": 16,
   "metadata": {},
   "outputs": [],
   "source": [
    "def evaluate_model(data_loader):\n",
    "    model.eval()\n",
    "    correct = 0\n",
    "    total = 0\n",
    "\n",
    "    with torch.no_grad():\n",
    "        for batch in data_loader:\n",
    "            input_ids, attention_masks, labels = batch\n",
    "            outputs = model(input_ids=input_ids, attention_mask=attention_masks)\n",
    "            _, predicted = torch.max(outputs.logits.data, 1)\n",
    "            total += labels.size(0)\n",
    "            correct += (predicted == labels).sum().item()\n",
    "\n",
    "    accuracy = 100 * correct / total\n",
    "    return accuracy"
   ]
  },
  {
   "cell_type": "code",
   "execution_count": 17,
   "metadata": {},
   "outputs": [],
   "source": [
    "def fine_tune_model(train_data, val_data, num_epochs):\n",
    "    train_loader = create_data_loader(train_data, batch_size=16, shuffle=True)\n",
    "    val_loader = create_data_loader(val_data, batch_size=16, shuffle=False)\n",
    "\n",
    "    # Set the optimizer and learning rate\n",
    "    optimizer = torch.optim.AdamW(model.parameters(), lr=1e-5)\n",
    "\n",
    "    # Fine-tuning loop\n",
    "    model.train()\n",
    "    for epoch in range(num_epochs):\n",
    "        total_loss = 0\n",
    "        for batch in train_loader:\n",
    "            optimizer.zero_grad()\n",
    "            input_ids, attention_mask, labels = batch\n",
    "            outputs = model(input_ids=input_ids, attention_mask=attention_mask, labels=labels)\n",
    "            loss = outputs.loss\n",
    "            total_loss += loss.item()\n",
    "            loss.backward()\n",
    "            optimizer.step()\n",
    "        average_loss = total_loss / len(train_loader)\n",
    "        print(f\"Epoch {epoch+1}/{num_epochs} - Average Loss: {average_loss:.4f}\")\n",
    "\n",
    "        # Perform evaluation on the validation set\n",
    "        accuracy = evaluate_model(val_loader)\n",
    "        print(f\"Epoch {epoch+1}/{num_epochs} - Validation Accuracy: {accuracy:.2f}%\")\n",
    "\n",
    "    # Save the fine-tuned model\n",
    "    torch.save(model.state_dict(), '../models/cross_lingual_intent_classification_model.pt')\n"
   ]
  },
  {
   "cell_type": "code",
   "execution_count": 18,
   "metadata": {},
   "outputs": [],
   "source": [
    "# Fine-tune the model on the train and validation data\n",
    "num_epochs = 3\n",
    "fine_tune_model(train_data, val_data, num_epochs)\n"
   ]
  },
  {
   "cell_type": "code",
   "execution_count": null,
   "metadata": {},
   "outputs": [],
   "source": [
    "# Load the saved model\n",
    "model = BertForSequenceClassification.from_pretrained('bert-base-multilingual-cased', num_labels=210)\n",
    "model.load_state_dict(torch.load('../models/cross_lingual_intent_classification_model.pt'))\n",
    "model.eval()\n"
   ]
  },
  {
   "cell_type": "code",
   "execution_count": null,
   "metadata": {},
   "outputs": [],
   "source": [
    "# Create a data loader for the test set\n",
    "test_loader = create_data_loader(test_data, batch_size=16, shuffle=False)\n",
    "\n",
    "# Evaluate the model on the test set\n",
    "test_accuracy = evaluate_model(test_loader)\n",
    "print(f\"Test Accuracy: {test_accuracy:.2f}%\")\n"
   ]
  },
  {
   "cell_type": "code",
   "execution_count": null,
   "metadata": {},
   "outputs": [],
   "source": [
    "# Classify intents using the fine-tuned model\n",
    "def classify_intent(text):\n",
    "    inputs = tokenizer.encode_plus(\n",
    "        text,\n",
    "        add_special_tokens=True,\n",
    "        max_length=128,\n",
    "        padding='max_length',\n",
    "        truncation=True,\n",
    "        return_tensors='pt'\n",
    "    )\n",
    "    input_ids = inputs['input_ids']\n",
    "    attention_mask = inputs['attention_mask']\n",
    "\n",
    "    with torch.no_grad():\n",
    "        outputs = model(input_ids=input_ids, attention_mask=attention_mask)\n",
    "        logits = outputs.logits\n",
    "        predicted_labels = torch.argmax(logits, dim=1)\n",
    "\n",
    "    predicted_intent = predicted_labels.item()\n",
    "    return predicted_intent\n"
   ]
  },
  {
   "cell_type": "code",
   "execution_count": null,
   "metadata": {},
   "outputs": [],
   "source": [
    "# Example usage\n",
    "text = \"Hello, how can I help you?\"\n",
    "predicted_intent = classify_intent(text)\n",
    "print(f\"Predicted Intent: {predicted_intent}\")\n"
   ]
  },
  {
   "cell_type": "code",
   "execution_count": null,
   "metadata": {},
   "outputs": [],
   "source": [
    "def test_model(test_data):\n",
    "    test_loader = create_data_loader(test_data, batch_size=16, shuffle=False)\n",
    "    \n",
    "    model.eval()\n",
    "    correct = 0\n",
    "    total = 0\n",
    "\n",
    "    with torch.no_grad():\n",
    "        for batch in test_loader:\n",
    "            input_ids, attention_masks, labels = batch\n",
    "            outputs = model(input_ids=input_ids, attention_mask=attention_masks)\n",
    "            _, predicted = torch.max(outputs.logits.data, 1)\n",
    "            total += labels.size(0)\n",
    "            correct += (predicted == labels).sum().item()\n",
    "\n",
    "    accuracy = 100 * correct / total\n",
    "    return accuracy\n",
    "\n",
    "# Evaluate the model on the test set\n",
    "test_accuracy = test_model(test_data)\n",
    "print(f\"Test Accuracy: {test_accuracy:.2f}%\")\n"
   ]
  }
 ],
 "metadata": {
  "kernelspec": {
   "display_name": "myenv",
   "language": "python",
   "name": "python3"
  },
  "language_info": {
   "codemirror_mode": {
    "name": "ipython",
    "version": 3
   },
   "file_extension": ".py",
   "mimetype": "text/x-python",
   "name": "python",
   "nbconvert_exporter": "python",
   "pygments_lexer": "ipython3",
   "version": "3.11.3"
  },
  "orig_nbformat": 4
 },
 "nbformat": 4,
 "nbformat_minor": 2
}
