{
 "cells": [
  {
   "cell_type": "code",
   "execution_count": 68,
   "metadata": {},
   "outputs": [],
   "source": [
    "import pandas as pd\n",
    "import torch\n",
    "from transformers import DistilBertTokenizer, DistilBertForSequenceClassification, AdamW\n",
    "from torch.utils.data import DataLoader, TensorDataset"
   ]
  },
  {
   "cell_type": "code",
   "execution_count": 69,
   "metadata": {},
   "outputs": [
    {
     "data": {
      "text/html": [
       "<div>\n",
       "<style scoped>\n",
       "    .dataframe tbody tr th:only-of-type {\n",
       "        vertical-align: middle;\n",
       "    }\n",
       "\n",
       "    .dataframe tbody tr th {\n",
       "        vertical-align: top;\n",
       "    }\n",
       "\n",
       "    .dataframe thead th {\n",
       "        text-align: right;\n",
       "    }\n",
       "</style>\n",
       "<table border=\"1\" class=\"dataframe\">\n",
       "  <thead>\n",
       "    <tr style=\"text-align: right;\">\n",
       "      <th></th>\n",
       "      <th>utt</th>\n",
       "      <th>intent</th>\n",
       "      <th>partition</th>\n",
       "    </tr>\n",
       "  </thead>\n",
       "  <tbody>\n",
       "    <tr>\n",
       "      <th>0</th>\n",
       "      <td>set a warning for when my bank account starts ...</td>\n",
       "      <td>oos</td>\n",
       "      <td>oos_val</td>\n",
       "    </tr>\n",
       "    <tr>\n",
       "      <th>1</th>\n",
       "      <td>a show on broadway</td>\n",
       "      <td>oos</td>\n",
       "      <td>oos_val</td>\n",
       "    </tr>\n",
       "    <tr>\n",
       "      <th>2</th>\n",
       "      <td>who has the best record in the nfl</td>\n",
       "      <td>oos</td>\n",
       "      <td>oos_val</td>\n",
       "    </tr>\n",
       "    <tr>\n",
       "      <th>3</th>\n",
       "      <td>how do i find the area of a circle</td>\n",
       "      <td>oos</td>\n",
       "      <td>oos_val</td>\n",
       "    </tr>\n",
       "    <tr>\n",
       "      <th>4</th>\n",
       "      <td>how many onions do i have on hand</td>\n",
       "      <td>oos</td>\n",
       "      <td>oos_val</td>\n",
       "    </tr>\n",
       "    <tr>\n",
       "      <th>...</th>\n",
       "      <td>...</td>\n",
       "      <td>...</td>\n",
       "      <td>...</td>\n",
       "    </tr>\n",
       "    <tr>\n",
       "      <th>95</th>\n",
       "      <td>what does it mean to have equality</td>\n",
       "      <td>oos</td>\n",
       "      <td>oos_val</td>\n",
       "    </tr>\n",
       "    <tr>\n",
       "      <th>96</th>\n",
       "      <td>what site publishes the most fake news</td>\n",
       "      <td>oos</td>\n",
       "      <td>oos_val</td>\n",
       "    </tr>\n",
       "    <tr>\n",
       "      <th>97</th>\n",
       "      <td>can you tell me some fake news</td>\n",
       "      <td>oos</td>\n",
       "      <td>oos_val</td>\n",
       "    </tr>\n",
       "    <tr>\n",
       "      <th>98</th>\n",
       "      <td>is cnn really fake news</td>\n",
       "      <td>oos</td>\n",
       "      <td>oos_val</td>\n",
       "    </tr>\n",
       "    <tr>\n",
       "      <th>99</th>\n",
       "      <td>why is there fake news</td>\n",
       "      <td>oos</td>\n",
       "      <td>oos_val</td>\n",
       "    </tr>\n",
       "  </tbody>\n",
       "</table>\n",
       "<p>100 rows × 3 columns</p>\n",
       "</div>"
      ],
      "text/plain": [
       "                                                  utt intent partition\n",
       "0   set a warning for when my bank account starts ...    oos   oos_val\n",
       "1                                  a show on broadway    oos   oos_val\n",
       "2                  who has the best record in the nfl    oos   oos_val\n",
       "3                  how do i find the area of a circle    oos   oos_val\n",
       "4                   how many onions do i have on hand    oos   oos_val\n",
       "..                                                ...    ...       ...\n",
       "95                 what does it mean to have equality    oos   oos_val\n",
       "96             what site publishes the most fake news    oos   oos_val\n",
       "97                     can you tell me some fake news    oos   oos_val\n",
       "98                            is cnn really fake news    oos   oos_val\n",
       "99                             why is there fake news    oos   oos_val\n",
       "\n",
       "[100 rows x 3 columns]"
      ]
     },
     "execution_count": 69,
     "metadata": {},
     "output_type": "execute_result"
    }
   ],
   "source": [
    "clinc_oos = pd.read_csv('../data/clinc_oos.csv')\n",
    "massive_us_en = pd.read_csv('../data/massive-us-en.csv')\n",
    "\n",
    "columns = ['utt', 'intent', 'partition']\n",
    "\n",
    "clinc_oos = clinc_oos[columns]\n",
    "massive_us_en = massive_us_en[columns]\n",
    "\n",
    "merged = pd.concat([clinc_oos, massive_us_en], ignore_index=True)\n",
    "merged['intent'] = merged['intent'].apply(lambda x: x.replace(' ', '_'))\n",
    "merged['utt'] = merged['utt'].apply(lambda x: x.lower())\n",
    "merged['utt'] = merged['utt'].apply(lambda x: x.replace('  ', ' '))\n",
    "merged['utt'] = merged['utt'].apply(lambda x: x.replace('?', ''))\n",
    "merged['utt'] = merged['utt'].apply(lambda x: x.replace('.', ''))\n",
    "merged['utt'] = merged['utt'].apply(lambda x: x.replace(',', ''))\n",
    "merged['utt'] = merged['utt'].apply(lambda x: x.replace('!', ''))\n",
    "merged['utt'] = merged['utt'].apply(lambda x: x.replace('\\'', ''))\n",
    "\n",
    "merged.to_csv('../data/merged.csv', index=False)\n",
    "\n",
    "merged.head(100)"
   ]
  },
  {
   "cell_type": "code",
   "execution_count": 70,
   "metadata": {},
   "outputs": [
    {
     "data": {
      "text/plain": [
       "['oos_val', 'val', 'oos_test', 'test', 'oos_train', 'train', 'dev']"
      ]
     },
     "execution_count": 70,
     "metadata": {},
     "output_type": "execute_result"
    }
   ],
   "source": [
    "(merged['partition'].unique().tolist())"
   ]
  },
  {
   "cell_type": "code",
   "execution_count": 71,
   "metadata": {},
   "outputs": [],
   "source": [
    "# Load the merged dataset\n",
    "merged_dataset = pd.read_csv('../data/merged.csv')\n",
    "\n",
    "# Encode the labels\n",
    "labels = merged_dataset['intent'].unique().tolist()\n",
    "label_map = {label: index for index, label in enumerate(labels)}\n",
    "\n",
    "# Split the dataset into train, validation, and test\n",
    "train_data = merged_dataset[merged_dataset['partition'] == 'train']\n",
    "val_data = merged_dataset[merged_dataset['partition'] == 'val']\n",
    "test_data = merged_dataset[merged_dataset['partition'] == 'test']\n"
   ]
  },
  {
   "cell_type": "code",
   "execution_count": 72,
   "metadata": {},
   "outputs": [],
   "source": [
    "# Initialize the tokenizer\n",
    "tokenizer = DistilBertTokenizer.from_pretrained('distilbert-base-uncased')\n",
    "\n",
    "# Encode the training data\n",
    "train_encodings = tokenizer(train_data['utt'].tolist(), truncation=True, padding=True)\n",
    "train_labels = torch.tensor([label_map[label] for label in train_data['intent']])\n",
    "val_encodings = tokenizer(val_data['utt'].tolist(), truncation=True, padding=True)\n",
    "val_labels = torch.tensor([label_map[label] for label in val_data['intent']])"
   ]
  },
  {
   "cell_type": "code",
   "execution_count": 73,
   "metadata": {},
   "outputs": [],
   "source": [
    "# Convert lists to tensors\n",
    "train_input_ids = torch.tensor(train_encodings.input_ids)\n",
    "train_attention_mask = torch.tensor(train_encodings.attention_mask)\n",
    "val_input_ids = torch.tensor(val_encodings.input_ids)\n",
    "val_attention_mask = torch.tensor(val_encodings.attention_mask)\n",
    "# Create a training dataset\n",
    "train_dataset = TensorDataset(train_input_ids, train_attention_mask, train_labels)\n",
    "val_dataset = TensorDataset(val_input_ids, val_attention_mask, val_labels)"
   ]
  },
  {
   "cell_type": "code",
   "execution_count": 74,
   "metadata": {},
   "outputs": [
    {
     "name": "stderr",
     "output_type": "stream",
     "text": [
      "Some weights of the model checkpoint at distilbert-base-uncased were not used when initializing DistilBertForSequenceClassification: ['vocab_projector.bias', 'vocab_transform.weight', 'vocab_projector.weight', 'vocab_transform.bias', 'vocab_layer_norm.bias', 'vocab_layer_norm.weight']\n",
      "- This IS expected if you are initializing DistilBertForSequenceClassification from the checkpoint of a model trained on another task or with another architecture (e.g. initializing a BertForSequenceClassification model from a BertForPreTraining model).\n",
      "- This IS NOT expected if you are initializing DistilBertForSequenceClassification from the checkpoint of a model that you expect to be exactly identical (initializing a BertForSequenceClassification model from a BertForSequenceClassification model).\n",
      "Some weights of DistilBertForSequenceClassification were not initialized from the model checkpoint at distilbert-base-uncased and are newly initialized: ['classifier.bias', 'classifier.weight', 'pre_classifier.bias', 'pre_classifier.weight']\n",
      "You should probably TRAIN this model on a down-stream task to be able to use it for predictions and inference.\n"
     ]
    },
    {
     "data": {
      "text/plain": [
       "DistilBertForSequenceClassification(\n",
       "  (distilbert): DistilBertModel(\n",
       "    (embeddings): Embeddings(\n",
       "      (word_embeddings): Embedding(30522, 768, padding_idx=0)\n",
       "      (position_embeddings): Embedding(512, 768)\n",
       "      (LayerNorm): LayerNorm((768,), eps=1e-12, elementwise_affine=True)\n",
       "      (dropout): Dropout(p=0.1, inplace=False)\n",
       "    )\n",
       "    (transformer): Transformer(\n",
       "      (layer): ModuleList(\n",
       "        (0-5): 6 x TransformerBlock(\n",
       "          (attention): MultiHeadSelfAttention(\n",
       "            (dropout): Dropout(p=0.1, inplace=False)\n",
       "            (q_lin): Linear(in_features=768, out_features=768, bias=True)\n",
       "            (k_lin): Linear(in_features=768, out_features=768, bias=True)\n",
       "            (v_lin): Linear(in_features=768, out_features=768, bias=True)\n",
       "            (out_lin): Linear(in_features=768, out_features=768, bias=True)\n",
       "          )\n",
       "          (sa_layer_norm): LayerNorm((768,), eps=1e-12, elementwise_affine=True)\n",
       "          (ffn): FFN(\n",
       "            (dropout): Dropout(p=0.1, inplace=False)\n",
       "            (lin1): Linear(in_features=768, out_features=3072, bias=True)\n",
       "            (lin2): Linear(in_features=3072, out_features=768, bias=True)\n",
       "            (activation): GELUActivation()\n",
       "          )\n",
       "          (output_layer_norm): LayerNorm((768,), eps=1e-12, elementwise_affine=True)\n",
       "        )\n",
       "      )\n",
       "    )\n",
       "  )\n",
       "  (pre_classifier): Linear(in_features=768, out_features=768, bias=True)\n",
       "  (classifier): Linear(in_features=768, out_features=210, bias=True)\n",
       "  (dropout): Dropout(p=0.2, inplace=False)\n",
       ")"
      ]
     },
     "execution_count": 74,
     "metadata": {},
     "output_type": "execute_result"
    }
   ],
   "source": [
    "# Initialize the model\n",
    "model = DistilBertForSequenceClassification.from_pretrained('distilbert-base-uncased', num_labels=len(label_map))\n",
    "\n",
    "# Set device\n",
    "device = torch.device('cuda' if torch.cuda.is_available() else 'cpu')\n",
    "model.to(device)\n"
   ]
  },
  {
   "cell_type": "code",
   "execution_count": 75,
   "metadata": {},
   "outputs": [
    {
     "name": "stderr",
     "output_type": "stream",
     "text": [
      "/Users/Aryan_Goel/intent-classification-model-service/myenv/lib/python3.11/site-packages/transformers/optimization.py:391: FutureWarning: This implementation of AdamW is deprecated and will be removed in a future version. Use the PyTorch implementation torch.optim.AdamW instead, or set `no_deprecation_warning=True` to disable this warning\n",
      "  warnings.warn(\n"
     ]
    }
   ],
   "source": [
    "# Set batch size and create a data loader\n",
    "batch_size = 16\n",
    "train_loader = DataLoader(train_dataset, batch_size=batch_size, shuffle=True)\n",
    "val_loader = DataLoader(val_dataset, batch_size=batch_size, shuffle=True)\n",
    "# Set optimizer\n",
    "optimizer = AdamW(model.parameters(), lr=5e-5)\n"
   ]
  },
  {
   "cell_type": "code",
   "execution_count": 77,
   "metadata": {},
   "outputs": [
    {
     "name": "stdout",
     "output_type": "stream",
     "text": [
      "Epoch 1/3 - Loss: 1.8044 - Train Accuracy: 0.6206 - Dev Accuracy: 0.8777\n",
      "Epoch 2/3 - Loss: 0.3731 - Train Accuracy: 0.8947 - Dev Accuracy: 0.8897\n",
      "Epoch 3/3 - Loss: 0.1962 - Train Accuracy: 0.9410 - Dev Accuracy: 0.8893\n"
     ]
    }
   ],
   "source": [
    "# Set number of training epochs\n",
    "num_epochs = 3\n",
    "\n",
    "# Training loop\n",
    "model.train()\n",
    "for epoch in range(num_epochs):\n",
    "    total_loss = 0\n",
    "    total_correct = 0\n",
    "    total_samples = 0\n",
    "\n",
    "    for batch in train_loader:\n",
    "        optimizer.zero_grad()\n",
    "        batch = tuple(t.to(device) for t in batch)\n",
    "        input_ids, attention_mask, labels = batch\n",
    "        outputs = model(input_ids, attention_mask=attention_mask, labels=labels)\n",
    "        loss = outputs.loss\n",
    "        total_loss += loss.item()\n",
    "        \n",
    "        # Perform backward pass and optimize\n",
    "        loss.backward()\n",
    "        optimizer.step()\n",
    "\n",
    "        # Calculate training accuracy\n",
    "        predicted_labels = torch.argmax(outputs.logits, dim=1)\n",
    "        correct = (predicted_labels == labels).sum().item()\n",
    "        total_correct += correct\n",
    "        total_samples += labels.size(0)\n",
    "    \n",
    "    average_loss = total_loss / len(train_loader)\n",
    "    train_accuracy = total_correct / total_samples\n",
    "\n",
    "    # Evaluation on the dev set\n",
    "    model.eval()\n",
    "    total_correct = 0\n",
    "    total_samples = 0\n",
    "\n",
    "    with torch.no_grad():\n",
    "        for batch in val_loader:\n",
    "            batch = tuple(t.to(device) for t in batch)\n",
    "            input_ids, attention_mask, labels = batch\n",
    "            outputs = model(input_ids, attention_mask=attention_mask)\n",
    "            predicted_labels = torch.argmax(outputs.logits, dim=1)\n",
    "            correct = (predicted_labels == labels).sum().item()\n",
    "            total_correct += correct\n",
    "            total_samples += labels.size(0)\n",
    "    \n",
    "    dev_accuracy = total_correct / total_samples\n",
    "\n",
    "    # Print metrics for the epoch\n",
    "    print(f\"Epoch {epoch+1}/{num_epochs} - Loss: {average_loss:.4f} - Train Accuracy: {train_accuracy:.4f} - Dev Accuracy: {dev_accuracy:.4f}\")\n",
    "\n",
    "    # Save the model\n",
    "    torch.save(model.state_dict(), '../models/massive-us-en.pt')\n"
   ]
  },
  {
   "cell_type": "code",
   "execution_count": 79,
   "metadata": {},
   "outputs": [
    {
     "name": "stdout",
     "output_type": "stream",
     "text": [
      "Test Accuracy: 85.87%\n",
      "Average Test Loss: 0.5321\n"
     ]
    }
   ],
   "source": [
    "# Testing\n",
    "\n",
    "test_encodings = tokenizer(test_data['utt'].tolist(), truncation=True, padding=True)\n",
    "test_labels = torch.tensor([label_map[label] for label in test_data['intent']])\n",
    "test_input_ids = torch.tensor(test_encodings.input_ids)\n",
    "test_attention_mask = torch.tensor(test_encodings.attention_mask)\n",
    "test_dataset = TensorDataset(test_input_ids, test_attention_mask, test_labels)\n",
    "test_loader = DataLoader(test_dataset, batch_size=batch_size, shuffle=True)\n",
    "\n",
    "model.eval()\n",
    "test_loss = 0\n",
    "test_correct = 0\n",
    "test_total = 0\n",
    "\n",
    "with torch.no_grad():\n",
    "    for batch in test_loader:\n",
    "        batch = tuple(t.to(device) for t in batch)\n",
    "        input_ids, attention_mask, labels = batch\n",
    "        outputs = model(input_ids, attention_mask=attention_mask, labels=labels)\n",
    "        loss = outputs.loss\n",
    "        test_loss += loss.item()\n",
    "        _, predicted = torch.max(outputs.logits, 1)\n",
    "        test_total += labels.size(0)\n",
    "        test_correct += (predicted == labels).sum().item()\n",
    "\n",
    "test_accuracy = 100 * test_correct / test_total\n",
    "average_test_loss = test_loss / len(test_loader)\n",
    "\n",
    "print(f\"Test Accuracy: {test_accuracy:.2f}%\")\n",
    "print(f\"Average Test Loss: {average_test_loss:.4f}\")\n"
   ]
  }
 ],
 "metadata": {
  "kernelspec": {
   "display_name": "myenv",
   "language": "python",
   "name": "python3"
  },
  "language_info": {
   "codemirror_mode": {
    "name": "ipython",
    "version": 3
   },
   "file_extension": ".py",
   "mimetype": "text/x-python",
   "name": "python",
   "nbconvert_exporter": "python",
   "pygments_lexer": "ipython3",
   "version": "3.11.3"
  },
  "orig_nbformat": 4
 },
 "nbformat": 4,
 "nbformat_minor": 2
}
